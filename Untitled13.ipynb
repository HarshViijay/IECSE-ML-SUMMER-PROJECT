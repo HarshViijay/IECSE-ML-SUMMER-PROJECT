{
 "cells": [
  {
   "cell_type": "code",
   "execution_count": null,
   "metadata": {},
   "outputs": [],
   "source": [
    "import cv2\n",
    "from sklearn.cluster import KMeans\n",
    "import numpy as np\n",
    "import os"
   ]
  },
  {
   "cell_type": "code",
   "execution_count": null,
   "metadata": {},
   "outputs": [],
   "source": [
    "img=cv2.imread('/home/harsh/CV/Deadpool.jpg')\n",
    "img1=img\n",
    "cv2.imshow('image',img)\n",
    "cv2.waitKey(0)\n",
    "cv2.destroyAllWindows()"
   ]
  },
  {
   "cell_type": "code",
   "execution_count": null,
   "metadata": {},
   "outputs": [],
   "source": [
    "r=img.shape[0]\n",
    "c=img.shape[1]\n",
    "\n",
    "img=img.reshape(r*c,3)\n",
    "\n",
    "n=input('Enter no. of clusters: 8,16,32,64,128...')\n",
    "n=int(n)\n",
    "\n",
    "kmeans=KMeans(n_clusters=n)\n",
    "kmeans.fit(img)\n",
    "\n",
    "compressed_img=kmeans.cluster_centers_[kmeans.labels_]\n",
    "compressed_img=np.clip(compressed_img.astype('uint8'),0,225)\n",
    "\n",
    "compressed_img=compressed_img.reshape(r,c,3)\n",
    "\n",
    "directory=r'/home/harsh/CV'\n",
    "os.chdir(directory)\n",
    "\n",
    "cv2.imwrite('compressed_image.jpg',compressed_img)\n",
    "cv2.imshow('image',img1)\n",
    "cv2.imshow('Compressed Image',compressed_img)\n",
    "cv2.waitKey(0)\n",
    "cv2.destroyAllWindows()"
   ]
  },
  {
   "cell_type": "code",
   "execution_count": null,
   "metadata": {},
   "outputs": [],
   "source": []
  },
  {
   "cell_type": "code",
   "execution_count": null,
   "metadata": {},
   "outputs": [],
   "source": []
  },
  {
   "cell_type": "code",
   "execution_count": null,
   "metadata": {},
   "outputs": [],
   "source": []
  }
 ],
 "metadata": {
  "kernelspec": {
   "display_name": "Python 3",
   "language": "python",
   "name": "python3"
  },
  "language_info": {
   "codemirror_mode": {
    "name": "ipython",
    "version": 3
   },
   "file_extension": ".py",
   "mimetype": "text/x-python",
   "name": "python",
   "nbconvert_exporter": "python",
   "pygments_lexer": "ipython3",
   "version": "3.6.9"
  }
 },
 "nbformat": 4,
 "nbformat_minor": 2
}
